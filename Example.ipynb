{
 "cells": [
  {
   "cell_type": "code",
   "execution_count": 1,
   "metadata": {
    "ExecuteTime": {
     "end_time": "2019-10-16T14:55:37.749147Z",
     "start_time": "2019-10-16T14:55:37.445499Z"
    }
   },
   "outputs": [],
   "source": [
    "import torch\n",
    "import torch.nn as nn\n",
    "import numpy as np\n",
    "import mixmatch"
   ]
  },
  {
   "cell_type": "code",
   "execution_count": 2,
   "metadata": {
    "ExecuteTime": {
     "end_time": "2019-10-16T14:55:37.763512Z",
     "start_time": "2019-10-16T14:55:37.754935Z"
    }
   },
   "outputs": [],
   "source": [
    "class ExampleDataset(torch.utils.data.Dataset):\n",
    "\n",
    "    def __init__(self, x, y=None):\n",
    "        self.x = x\n",
    "        self.y = y\n",
    "\n",
    "    def __len__(self):\n",
    "        return len(self.x)\n",
    "\n",
    "    def __getitem__(self, idx):\n",
    "        sample = dict(features=torch.tensor(self.x[idx], dtype=torch.float32))\n",
    "        if self.y is not None:\n",
    "            sample['targets'] = torch.tensor(self.y[idx], dtype=torch.float32)\n",
    "        return sample"
   ]
  },
  {
   "cell_type": "code",
   "execution_count": 3,
   "metadata": {
    "ExecuteTime": {
     "end_time": "2019-10-16T14:55:38.156168Z",
     "start_time": "2019-10-16T14:55:38.147217Z"
    }
   },
   "outputs": [],
   "source": [
    "class MyModel(nn.Module):\n",
    "    \n",
    "    def __init__(self, num_features):\n",
    "        \n",
    "        super().__init__()\n",
    "        self.classifier = nn.Linear(num_features, 1)\n",
    "        \n",
    "    def forward(self, x):\n",
    "        \n",
    "        return self.classifier(x.view(x.size(0), -1)).squeeze()"
   ]
  },
  {
   "cell_type": "code",
   "execution_count": 4,
   "metadata": {
    "ExecuteTime": {
     "end_time": "2019-10-16T14:55:38.667010Z",
     "start_time": "2019-10-16T14:55:38.582700Z"
    }
   },
   "outputs": [],
   "source": [
    "dataset_labeled = ExampleDataset(np.random.random((1000, 10, 10)), np.ones(1000))\n",
    "dataset_unlabeled = ExampleDataset(np.ones((1000, 10, 10)))\n",
    "model = MyModel(10 * 10)\n",
    "batch_size = 32\n",
    "steps_per_epoch = 10\n",
    "output_transform = torch.sigmoid\n",
    "\n",
    "loader_labeled = torch.utils.data.DataLoader(\n",
    "    dataset_labeled,\n",
    "    batch_size=batch_size,\n",
    "    shuffle=True,\n",
    "    num_workers=4,\n",
    "    drop_last=True\n",
    ")\n",
    "\n",
    "loader_mixmatch = mixmatch.MixmatchLoader(\n",
    "    loader_labeled, \n",
    "    dataset_unlabeled, \n",
    "    model, \n",
    "    output_transform,\n",
    "    K=2,\n",
    "    T=0.5,\n",
    "    alpha=0.75\n",
    ")"
   ]
  },
  {
   "cell_type": "code",
   "execution_count": 5,
   "metadata": {
    "ExecuteTime": {
     "end_time": "2019-10-16T14:55:39.142331Z",
     "start_time": "2019-10-16T14:55:39.131857Z"
    }
   },
   "outputs": [],
   "source": [
    "criterion = mixmatch.get_mixmatch_loss(\n",
    "    criterion_labeled=nn.BCEWithLogitsLoss(), \n",
    "    output_transform=output_transform, \n",
    "    K=2,\n",
    "    weight_unlabeled=100.,\n",
    "    criterion_unlabeled=nn.MSELoss()\n",
    ")"
   ]
  },
  {
   "cell_type": "code",
   "execution_count": 6,
   "metadata": {
    "ExecuteTime": {
     "end_time": "2019-10-16T14:55:39.488074Z",
     "start_time": "2019-10-16T14:55:39.424831Z"
    }
   },
   "outputs": [
    {
     "data": {
      "text/plain": [
       "(torch.Size([96, 10, 10]), torch.Size([96]))"
      ]
     },
     "execution_count": 6,
     "metadata": {},
     "output_type": "execute_result"
    }
   ],
   "source": [
    "batch = next(iter(loader_mixmatch))\n",
    "batch['features'].shape, batch['targets'].shape"
   ]
  },
  {
   "cell_type": "code",
   "execution_count": 7,
   "metadata": {
    "ExecuteTime": {
     "end_time": "2019-10-16T14:55:39.931104Z",
     "start_time": "2019-10-16T14:55:39.921100Z"
    }
   },
   "outputs": [
    {
     "data": {
      "text/plain": [
       "torch.Size([96])"
      ]
     },
     "execution_count": 7,
     "metadata": {},
     "output_type": "execute_result"
    }
   ],
   "source": [
    "logits = model(batch['features'])\n",
    "logits.shape"
   ]
  },
  {
   "cell_type": "code",
   "execution_count": 8,
   "metadata": {
    "ExecuteTime": {
     "end_time": "2019-10-16T14:55:40.837020Z",
     "start_time": "2019-10-16T14:55:40.832809Z"
    }
   },
   "outputs": [
    {
     "data": {
      "text/plain": [
       "tensor(1.3509, grad_fn=<AddBackward0>)"
      ]
     },
     "execution_count": 8,
     "metadata": {},
     "output_type": "execute_result"
    }
   ],
   "source": [
    "loss = criterion(logits, batch['targets'])\n",
    "loss"
   ]
  }
 ],
 "metadata": {
  "kernelspec": {
   "display_name": "Python 3",
   "language": "python",
   "name": "python3"
  },
  "language_info": {
   "codemirror_mode": {
    "name": "ipython",
    "version": 3
   },
   "file_extension": ".py",
   "mimetype": "text/x-python",
   "name": "python",
   "nbconvert_exporter": "python",
   "pygments_lexer": "ipython3",
   "version": "3.6.4"
  },
  "toc": {
   "base_numbering": 1,
   "nav_menu": {},
   "number_sections": true,
   "sideBar": true,
   "skip_h1_title": false,
   "title_cell": "Table of Contents",
   "title_sidebar": "Contents",
   "toc_cell": false,
   "toc_position": {},
   "toc_section_display": true,
   "toc_window_display": false
  }
 },
 "nbformat": 4,
 "nbformat_minor": 2
}
